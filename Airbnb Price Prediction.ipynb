{
 "cells": [
  {
   "cell_type": "markdown",
   "id": "d2e859aa",
   "metadata": {},
   "source": [
    "## Goal: Price Prediction of Airbnb rentals in Sydney based on Features "
   ]
  },
  {
   "cell_type": "code",
   "execution_count": 1,
   "id": "3a040b60",
   "metadata": {},
   "outputs": [],
   "source": [
    "import pandas as pd\n",
    "import numpy as np\n",
    "import matplotlib.pyplot as plt\n",
    "import seaborn as sns\n",
    "import warnings\n",
    "warnings.filterwarnings('ignore') "
   ]
  },
  {
   "cell_type": "code",
   "execution_count": 2,
   "id": "c54f8535",
   "metadata": {},
   "outputs": [],
   "source": [
    "# Plot settings\n",
    "sns.set_context('notebook') # optimises figures for notebook display\n",
    "sns.set_style('ticks') # set default plot style\n",
    "colours = ['#4E79A7','#F28E2C','#E15759','#76B7B2','#59A14F', \n",
    "          '#EDC949','#AF7AA1','#FF9DA7','#9C755F','#BAB0AB']\n",
    "sns.set_palette(colours) # set custom color scheme\n",
    "%matplotlib inline\n",
    "plt.rcParams['figure.figsize'] = (9, 6)"
   ]
  },
  {
   "cell_type": "code",
   "execution_count": 3,
   "id": "5c85058a",
   "metadata": {},
   "outputs": [
    {
     "data": {
      "text/html": [
       "<div>\n",
       "<style scoped>\n",
       "    .dataframe tbody tr th:only-of-type {\n",
       "        vertical-align: middle;\n",
       "    }\n",
       "\n",
       "    .dataframe tbody tr th {\n",
       "        vertical-align: top;\n",
       "    }\n",
       "\n",
       "    .dataframe thead th {\n",
       "        text-align: right;\n",
       "    }\n",
       "</style>\n",
       "<table border=\"1\" class=\"dataframe\">\n",
       "  <thead>\n",
       "    <tr style=\"text-align: right;\">\n",
       "      <th></th>\n",
       "      <th>name</th>\n",
       "      <th>description</th>\n",
       "      <th>neighborhood_overview</th>\n",
       "      <th>host_name</th>\n",
       "      <th>host_since</th>\n",
       "      <th>host_location</th>\n",
       "      <th>host_about</th>\n",
       "      <th>host_response_time</th>\n",
       "      <th>host_response_rate</th>\n",
       "      <th>host_acceptance_rate</th>\n",
       "      <th>...</th>\n",
       "      <th>review_scores_communication</th>\n",
       "      <th>review_scores_location</th>\n",
       "      <th>review_scores_value</th>\n",
       "      <th>instant_bookable</th>\n",
       "      <th>calculated_host_listings_count</th>\n",
       "      <th>calculated_host_listings_count_entire_homes</th>\n",
       "      <th>calculated_host_listings_count_private_rooms</th>\n",
       "      <th>calculated_host_listings_count_shared_rooms</th>\n",
       "      <th>reviews_per_month</th>\n",
       "      <th>price</th>\n",
       "    </tr>\n",
       "  </thead>\n",
       "  <tbody>\n",
       "    <tr>\n",
       "      <th>0</th>\n",
       "      <td>Sunny huge private room in Paddington</td>\n",
       "      <td>NaN</td>\n",
       "      <td>NaN</td>\n",
       "      <td>Maritzza</td>\n",
       "      <td>2015-08-06</td>\n",
       "      <td>Sydney, New South Wales, Australia</td>\n",
       "      <td>NaN</td>\n",
       "      <td>NaN</td>\n",
       "      <td>NaN</td>\n",
       "      <td>NaN</td>\n",
       "      <td>...</td>\n",
       "      <td>NaN</td>\n",
       "      <td>NaN</td>\n",
       "      <td>NaN</td>\n",
       "      <td>t</td>\n",
       "      <td>2</td>\n",
       "      <td>0</td>\n",
       "      <td>2</td>\n",
       "      <td>0</td>\n",
       "      <td>NaN</td>\n",
       "      <td>$85.00</td>\n",
       "    </tr>\n",
       "    <tr>\n",
       "      <th>1</th>\n",
       "      <td>Gorgeous large 3 bedroom terrace house</td>\n",
       "      <td>Our house is perfect for families or small gro...</td>\n",
       "      <td>Whilst Camperdown and Newtown are really livel...</td>\n",
       "      <td>Liv</td>\n",
       "      <td>2010-12-08</td>\n",
       "      <td>New South Wales, Australia</td>\n",
       "      <td>.</td>\n",
       "      <td>NaN</td>\n",
       "      <td>NaN</td>\n",
       "      <td>NaN</td>\n",
       "      <td>...</td>\n",
       "      <td>10.0</td>\n",
       "      <td>10.0</td>\n",
       "      <td>10.0</td>\n",
       "      <td>t</td>\n",
       "      <td>1</td>\n",
       "      <td>1</td>\n",
       "      <td>0</td>\n",
       "      <td>0</td>\n",
       "      <td>0.16</td>\n",
       "      <td>$400.00</td>\n",
       "    </tr>\n",
       "    <tr>\n",
       "      <th>2</th>\n",
       "      <td>1 BR Apt with great small terrace in Surry Hills</td>\n",
       "      <td>Lovely 2 storey apartment in Surry Hills, one ...</td>\n",
       "      <td>NaN</td>\n",
       "      <td>Emanuele</td>\n",
       "      <td>2016-09-17</td>\n",
       "      <td>Turin, Piedmont, Italy</td>\n",
       "      <td>NaN</td>\n",
       "      <td>NaN</td>\n",
       "      <td>NaN</td>\n",
       "      <td>NaN</td>\n",
       "      <td>...</td>\n",
       "      <td>10.0</td>\n",
       "      <td>10.0</td>\n",
       "      <td>9.0</td>\n",
       "      <td>t</td>\n",
       "      <td>1</td>\n",
       "      <td>1</td>\n",
       "      <td>0</td>\n",
       "      <td>0</td>\n",
       "      <td>0.05</td>\n",
       "      <td>$229.00</td>\n",
       "    </tr>\n",
       "    <tr>\n",
       "      <th>3</th>\n",
       "      <td>Modern Apartment Close to Everything</td>\n",
       "      <td>Fantastic brand new Apartment with Panoramic v...</td>\n",
       "      <td>Multicultural Parramatta combines a buzzing co...</td>\n",
       "      <td>Leah</td>\n",
       "      <td>2017-10-27</td>\n",
       "      <td>Parramatta, New South Wales, Australia</td>\n",
       "      <td>NaN</td>\n",
       "      <td>NaN</td>\n",
       "      <td>NaN</td>\n",
       "      <td>NaN</td>\n",
       "      <td>...</td>\n",
       "      <td>10.0</td>\n",
       "      <td>10.0</td>\n",
       "      <td>10.0</td>\n",
       "      <td>t</td>\n",
       "      <td>1</td>\n",
       "      <td>0</td>\n",
       "      <td>1</td>\n",
       "      <td>0</td>\n",
       "      <td>0.05</td>\n",
       "      <td>$220.00</td>\n",
       "    </tr>\n",
       "    <tr>\n",
       "      <th>4</th>\n",
       "      <td>Charming parkside apartment in quiet area</td>\n",
       "      <td>How many holiday rentals allow you to walk out...</td>\n",
       "      <td>Twenty minutes to the west of the Sydney CBD, ...</td>\n",
       "      <td>MadeComfy</td>\n",
       "      <td>2019-07-24</td>\n",
       "      <td>Sydney, New South Wales, Australia</td>\n",
       "      <td>Hi, and welcome to MadeComfy!\\n\\nWe are a team...</td>\n",
       "      <td>NaN</td>\n",
       "      <td>NaN</td>\n",
       "      <td>NaN</td>\n",
       "      <td>...</td>\n",
       "      <td>10.0</td>\n",
       "      <td>10.0</td>\n",
       "      <td>8.0</td>\n",
       "      <td>t</td>\n",
       "      <td>189</td>\n",
       "      <td>189</td>\n",
       "      <td>0</td>\n",
       "      <td>0</td>\n",
       "      <td>0.90</td>\n",
       "      <td>$127.00</td>\n",
       "    </tr>\n",
       "  </tbody>\n",
       "</table>\n",
       "<p>5 rows × 60 columns</p>\n",
       "</div>"
      ],
      "text/plain": [
       "                                               name  \\\n",
       "0             Sunny huge private room in Paddington   \n",
       "1            Gorgeous large 3 bedroom terrace house   \n",
       "2  1 BR Apt with great small terrace in Surry Hills   \n",
       "3              Modern Apartment Close to Everything   \n",
       "4         Charming parkside apartment in quiet area   \n",
       "\n",
       "                                         description  \\\n",
       "0                                                NaN   \n",
       "1  Our house is perfect for families or small gro...   \n",
       "2  Lovely 2 storey apartment in Surry Hills, one ...   \n",
       "3  Fantastic brand new Apartment with Panoramic v...   \n",
       "4  How many holiday rentals allow you to walk out...   \n",
       "\n",
       "                               neighborhood_overview  host_name  host_since  \\\n",
       "0                                                NaN   Maritzza  2015-08-06   \n",
       "1  Whilst Camperdown and Newtown are really livel...        Liv  2010-12-08   \n",
       "2                                                NaN   Emanuele  2016-09-17   \n",
       "3  Multicultural Parramatta combines a buzzing co...       Leah  2017-10-27   \n",
       "4  Twenty minutes to the west of the Sydney CBD, ...  MadeComfy  2019-07-24   \n",
       "\n",
       "                            host_location  \\\n",
       "0      Sydney, New South Wales, Australia   \n",
       "1              New South Wales, Australia   \n",
       "2                  Turin, Piedmont, Italy   \n",
       "3  Parramatta, New South Wales, Australia   \n",
       "4      Sydney, New South Wales, Australia   \n",
       "\n",
       "                                          host_about host_response_time  \\\n",
       "0                                                NaN                NaN   \n",
       "1                                                  .                NaN   \n",
       "2                                                NaN                NaN   \n",
       "3                                                NaN                NaN   \n",
       "4  Hi, and welcome to MadeComfy!\\n\\nWe are a team...                NaN   \n",
       "\n",
       "  host_response_rate host_acceptance_rate  ... review_scores_communication  \\\n",
       "0                NaN                  NaN  ...                         NaN   \n",
       "1                NaN                  NaN  ...                        10.0   \n",
       "2                NaN                  NaN  ...                        10.0   \n",
       "3                NaN                  NaN  ...                        10.0   \n",
       "4                NaN                  NaN  ...                        10.0   \n",
       "\n",
       "  review_scores_location  review_scores_value  instant_bookable  \\\n",
       "0                    NaN                  NaN                 t   \n",
       "1                   10.0                 10.0                 t   \n",
       "2                   10.0                  9.0                 t   \n",
       "3                   10.0                 10.0                 t   \n",
       "4                   10.0                  8.0                 t   \n",
       "\n",
       "  calculated_host_listings_count calculated_host_listings_count_entire_homes  \\\n",
       "0                              2                                           0   \n",
       "1                              1                                           1   \n",
       "2                              1                                           1   \n",
       "3                              1                                           0   \n",
       "4                            189                                         189   \n",
       "\n",
       "  calculated_host_listings_count_private_rooms  \\\n",
       "0                                            2   \n",
       "1                                            0   \n",
       "2                                            0   \n",
       "3                                            1   \n",
       "4                                            0   \n",
       "\n",
       "  calculated_host_listings_count_shared_rooms  reviews_per_month    price  \n",
       "0                                           0                NaN   $85.00  \n",
       "1                                           0               0.16  $400.00  \n",
       "2                                           0               0.05  $229.00  \n",
       "3                                           0               0.05  $220.00  \n",
       "4                                           0               0.90  $127.00  \n",
       "\n",
       "[5 rows x 60 columns]"
      ]
     },
     "execution_count": 3,
     "metadata": {},
     "output_type": "execute_result"
    }
   ],
   "source": [
    "train = pd.read_csv('train.csv')\n",
    "train.head()\n"
   ]
  },
  {
   "cell_type": "markdown",
   "id": "48306663",
   "metadata": {},
   "source": [
    "# DATA PRE-PROCESSING"
   ]
  },
  {
   "cell_type": "code",
   "execution_count": 4,
   "id": "d2193e34",
   "metadata": {},
   "outputs": [],
   "source": [
    "#dropping neighbourhood_group_cleansed as it is an empty variable\n",
    "train.drop(['neighbourhood_group_cleansed'], axis =1, inplace = True)"
   ]
  },
  {
   "cell_type": "markdown",
   "id": "6dced8ec",
   "metadata": {},
   "source": [
    "## 1. Changing the non-standard formats"
   ]
  },
  {
   "cell_type": "code",
   "execution_count": 5,
   "id": "99b091fe",
   "metadata": {},
   "outputs": [],
   "source": [
    "#Changing price column format\n",
    "train['price']=train['price'].str.strip('$')\n",
    "train['price']=train['price'].str.replace(',','').astype(float)"
   ]
  },
  {
   "cell_type": "code",
   "execution_count": 6,
   "id": "f61dcf27",
   "metadata": {},
   "outputs": [],
   "source": [
    "#datetime format for host_since, and creating host_days as it will be a better variable to use\n",
    "train['host_since']= pd.to_datetime(train['host_since'])\n",
    "train['host_days']=(train['host_since'].max()-train['host_since']).dt.days"
   ]
  },
  {
   "cell_type": "code",
   "execution_count": 7,
   "id": "cc6b98be",
   "metadata": {},
   "outputs": [],
   "source": [
    "#datetime format for first_review \n",
    "train['first_review']=pd.to_datetime(train['first_review'])\n",
    "\n",
    "#datetime format for last_review \n",
    "train['last_review']=pd.to_datetime(train['last_review'])\n"
   ]
  },
  {
   "cell_type": "code",
   "execution_count": 8,
   "id": "baf6d14d",
   "metadata": {},
   "outputs": [],
   "source": [
    "#host_acceptance rate and host_response rate format change\n",
    "train['host_response_rate']= train['host_response_rate'].str.replace('%','').astype(float)/100\n",
    "train['host_acceptance_rate']= train['host_acceptance_rate'].str.replace('%','').astype(float)/100\n"
   ]
  },
  {
   "cell_type": "markdown",
   "id": "3760b87f",
   "metadata": {},
   "source": [
    "## 2. Seperating Columns by type"
   ]
  },
  {
   "cell_type": "code",
   "execution_count": 9,
   "id": "ecc97990",
   "metadata": {},
   "outputs": [],
   "source": [
    "train_datetime = train.select_dtypes(include='datetime64')\n",
    "train_categorical = train.select_dtypes(include='object')\n",
    "train_discrete = train.select_dtypes(include='int64')\n",
    "train_continuous = train.select_dtypes(include='float64')"
   ]
  },
  {
   "cell_type": "markdown",
   "id": "706ce526",
   "metadata": {},
   "source": [
    "## 3. Missing Values"
   ]
  },
  {
   "cell_type": "markdown",
   "id": "01c90147",
   "metadata": {},
   "source": [
    "### Imputation with Sklearn"
   ]
  },
  {
   "cell_type": "markdown",
   "id": "bb85c802",
   "metadata": {},
   "source": [
    "#### 3.1 Handling Missing value in continuous variables "
   ]
  },
  {
   "cell_type": "code",
   "execution_count": 10,
   "id": "fb1461eb",
   "metadata": {},
   "outputs": [
    {
     "data": {
      "text/plain": [
       "<AxesSubplot:>"
      ]
     },
     "execution_count": 10,
     "metadata": {},
     "output_type": "execute_result"
    },
    {
     "data": {
      "image/png": "[encoded data removed]",
      "text/plain": [
       "<Figure size 648x432 with 2 Axes>"
      ]
     },
     "metadata": {
      "needs_background": "light"
     },
     "output_type": "display_data"
    }
   ],
   "source": [
    "plt.rcParams['figure.figsize'] = (9, 6)\n",
    "sns.heatmap(train_continuous.isnull())"
   ]
  },
  {
   "cell_type": "code",
   "execution_count": 11,
   "id": "186b9ff9",
   "metadata": {},
   "outputs": [],
   "source": [
    "from sklearn.impute import KNNImputer\n",
    "#Using Multivariate KNN imputer "
   ]
  },
  {
   "cell_type": "code",
   "execution_count": 12,
   "id": "42c622d8",
   "metadata": {},
   "outputs": [],
   "source": [
    "#continuous variables \n",
    "impute_knn = KNNImputer()\n",
    "d = impute_knn.fit_transform(train_continuous)"
   ]
  },
  {
   "cell_type": "code",
   "execution_count": 13,
   "id": "9c0193ff",
   "metadata": {},
   "outputs": [],
   "source": [
    "continuous_features = pd.DataFrame(d, columns = train_continuous.columns)"
   ]
  },
  {
   "cell_type": "code",
   "execution_count": 14,
   "id": "c24084d2",
   "metadata": {},
   "outputs": [
    {
     "data": {
      "text/html": [
       "<div>\n",
       "<style scoped>\n",
       "    .dataframe tbody tr th:only-of-type {\n",
       "        vertical-align: middle;\n",
       "    }\n",
       "\n",
       "    .dataframe tbody tr th {\n",
       "        vertical-align: top;\n",
       "    }\n",
       "\n",
       "    .dataframe thead th {\n",
       "        text-align: right;\n",
       "    }\n",
       "</style>\n",
       "<table border=\"1\" class=\"dataframe\">\n",
       "  <thead>\n",
       "    <tr style=\"text-align: right;\">\n",
       "      <th></th>\n",
       "      <th>host_response_rate</th>\n",
       "      <th>host_acceptance_rate</th>\n",
       "      <th>host_listings_count</th>\n",
       "      <th>host_total_listings_count</th>\n",
       "      <th>latitude</th>\n",
       "      <th>longitude</th>\n",
       "      <th>bedrooms</th>\n",
       "      <th>beds</th>\n",
       "      <th>minimum_nights_avg_ntm</th>\n",
       "      <th>maximum_nights_avg_ntm</th>\n",
       "      <th>review_scores_rating</th>\n",
       "      <th>review_scores_accuracy</th>\n",
       "      <th>review_scores_cleanliness</th>\n",
       "      <th>review_scores_checkin</th>\n",
       "      <th>review_scores_communication</th>\n",
       "      <th>review_scores_location</th>\n",
       "      <th>review_scores_value</th>\n",
       "      <th>reviews_per_month</th>\n",
       "      <th>price</th>\n",
       "    </tr>\n",
       "  </thead>\n",
       "  <tbody>\n",
       "    <tr>\n",
       "      <th>0</th>\n",
       "      <td>1.000</td>\n",
       "      <td>0.600</td>\n",
       "      <td>3.0</td>\n",
       "      <td>3.0</td>\n",
       "      <td>-33.88600</td>\n",
       "      <td>151.22138</td>\n",
       "      <td>1.0</td>\n",
       "      <td>1.0</td>\n",
       "      <td>3.0</td>\n",
       "      <td>3.0</td>\n",
       "      <td>96.8</td>\n",
       "      <td>9.8</td>\n",
       "      <td>9.6</td>\n",
       "      <td>10.0</td>\n",
       "      <td>10.0</td>\n",
       "      <td>10.0</td>\n",
       "      <td>9.8</td>\n",
       "      <td>0.732</td>\n",
       "      <td>85.0</td>\n",
       "    </tr>\n",
       "    <tr>\n",
       "      <th>1</th>\n",
       "      <td>0.800</td>\n",
       "      <td>0.488</td>\n",
       "      <td>1.0</td>\n",
       "      <td>1.0</td>\n",
       "      <td>-33.89147</td>\n",
       "      <td>151.17989</td>\n",
       "      <td>3.0</td>\n",
       "      <td>3.0</td>\n",
       "      <td>5.0</td>\n",
       "      <td>8.0</td>\n",
       "      <td>100.0</td>\n",
       "      <td>10.0</td>\n",
       "      <td>10.0</td>\n",
       "      <td>10.0</td>\n",
       "      <td>10.0</td>\n",
       "      <td>10.0</td>\n",
       "      <td>10.0</td>\n",
       "      <td>0.160</td>\n",
       "      <td>400.0</td>\n",
       "    </tr>\n",
       "    <tr>\n",
       "      <th>2</th>\n",
       "      <td>1.000</td>\n",
       "      <td>0.900</td>\n",
       "      <td>1.0</td>\n",
       "      <td>1.0</td>\n",
       "      <td>-33.88238</td>\n",
       "      <td>151.21147</td>\n",
       "      <td>1.0</td>\n",
       "      <td>1.0</td>\n",
       "      <td>2.0</td>\n",
       "      <td>1125.0</td>\n",
       "      <td>100.0</td>\n",
       "      <td>10.0</td>\n",
       "      <td>9.0</td>\n",
       "      <td>9.0</td>\n",
       "      <td>10.0</td>\n",
       "      <td>10.0</td>\n",
       "      <td>9.0</td>\n",
       "      <td>0.050</td>\n",
       "      <td>229.0</td>\n",
       "    </tr>\n",
       "    <tr>\n",
       "      <th>3</th>\n",
       "      <td>0.934</td>\n",
       "      <td>0.970</td>\n",
       "      <td>1.0</td>\n",
       "      <td>1.0</td>\n",
       "      <td>-33.81528</td>\n",
       "      <td>151.00074</td>\n",
       "      <td>1.0</td>\n",
       "      <td>1.0</td>\n",
       "      <td>365.0</td>\n",
       "      <td>1125.0</td>\n",
       "      <td>100.0</td>\n",
       "      <td>10.0</td>\n",
       "      <td>10.0</td>\n",
       "      <td>10.0</td>\n",
       "      <td>10.0</td>\n",
       "      <td>10.0</td>\n",
       "      <td>10.0</td>\n",
       "      <td>0.050</td>\n",
       "      <td>220.0</td>\n",
       "    </tr>\n",
       "    <tr>\n",
       "      <th>4</th>\n",
       "      <td>0.800</td>\n",
       "      <td>0.584</td>\n",
       "      <td>0.0</td>\n",
       "      <td>0.0</td>\n",
       "      <td>-33.88649</td>\n",
       "      <td>151.13558</td>\n",
       "      <td>2.0</td>\n",
       "      <td>2.0</td>\n",
       "      <td>3.0</td>\n",
       "      <td>1125.0</td>\n",
       "      <td>83.0</td>\n",
       "      <td>9.0</td>\n",
       "      <td>8.0</td>\n",
       "      <td>10.0</td>\n",
       "      <td>10.0</td>\n",
       "      <td>10.0</td>\n",
       "      <td>8.0</td>\n",
       "      <td>0.900</td>\n",
       "      <td>127.0</td>\n",
       "    </tr>\n",
       "  </tbody>\n",
       "</table>\n",
       "</div>"
      ],
      "text/plain": [
       "   host_response_rate  host_acceptance_rate  host_listings_count  \\\n",
       "0               1.000                 0.600                  3.0   \n",
       "1               0.800                 0.488                  1.0   \n",
       "2               1.000                 0.900                  1.0   \n",
       "3               0.934                 0.970                  1.0   \n",
       "4               0.800                 0.584                  0.0   \n",
       "\n",
       "   host_total_listings_count  latitude  longitude  bedrooms  beds  \\\n",
       "0                        3.0 -33.88600  151.22138       1.0   1.0   \n",
       "1                        1.0 -33.89147  151.17989       3.0   3.0   \n",
       "2                        1.0 -33.88238  151.21147       1.0   1.0   \n",
       "3                        1.0 -33.81528  151.00074       1.0   1.0   \n",
       "4                        0.0 -33.88649  151.13558       2.0   2.0   \n",
       "\n",
       "   minimum_nights_avg_ntm  maximum_nights_avg_ntm  review_scores_rating  \\\n",
       "0                     3.0                     3.0                  96.8   \n",
       "1                     5.0                     8.0                 100.0   \n",
       "2                     2.0                  1125.0                 100.0   \n",
       "3                   365.0                  1125.0                 100.0   \n",
       "4                     3.0                  1125.0                  83.0   \n",
       "\n",
       "   review_scores_accuracy  review_scores_cleanliness  review_scores_checkin  \\\n",
       "0                     9.8                        9.6                   10.0   \n",
       "1                    10.0                       10.0                   10.0   \n",
       "2                    10.0                        9.0                    9.0   \n",
       "3                    10.0                       10.0                   10.0   \n",
       "4                     9.0                        8.0                   10.0   \n",
       "\n",
       "   review_scores_communication  review_scores_location  review_scores_value  \\\n",
       "0                         10.0                    10.0                  9.8   \n",
       "1                         10.0                    10.0                 10.0   \n",
       "2                         10.0                    10.0                  9.0   \n",
       "3                         10.0                    10.0                 10.0   \n",
       "4                         10.0                    10.0                  8.0   \n",
       "\n",
       "   reviews_per_month  price  \n",
       "0              0.732   85.0  \n",
       "1              0.160  400.0  \n",
       "2              0.050  229.0  \n",
       "3              0.050  220.0  \n",
       "4              0.900  127.0  "
      ]
     },
     "execution_count": 14,
     "metadata": {},
     "output_type": "execute_result"
    }
   ],
   "source": [
    "continuous_features.head()"
   ]
  },
  {
   "cell_type": "code",
   "execution_count": 15,
   "id": "f64ab3a2",
   "metadata": {},
   "outputs": [
    {
     "data": {
      "text/plain": [
       "<AxesSubplot:>"
      ]
     },
     "execution_count": 15,
     "metadata": {},
     "output_type": "execute_result"
    },
    {
     "data": {
      "image/png": "[encoded data removed]",
      "text/plain": [
       "<Figure size 648x432 with 2 Axes>"
      ]
     },
     "metadata": {
      "needs_background": "light"
     },
     "output_type": "display_data"
    }
   ],
   "source": [
    "plt.rcParams['figure.figsize'] = (9, 6)\n",
    "sns.heatmap(continuous_features.isnull())"
   ]
  },
  {
   "cell_type": "markdown",
   "id": "6a40da91",
   "metadata": {},
   "source": [
    "#### 3.2 Handling Missing Values in Discrete Variables"
   ]
  },
  {
   "cell_type": "code",
   "execution_count": 16,
   "id": "92ca7161",
   "metadata": {},
   "outputs": [
    {
     "name": "stdout",
     "output_type": "stream",
     "text": [
      "<class 'pandas.core.frame.DataFrame'>\n",
      "RangeIndex: 20408 entries, 0 to 20407\n",
      "Data columns (total 19 columns):\n",
      " #   Column                                        Non-Null Count  Dtype\n",
      "---  ------                                        --------------  -----\n",
      " 0   accommodates                                  20408 non-null  int64\n",
      " 1   minimum_nights                                20408 non-null  int64\n",
      " 2   maximum_nights                                20408 non-null  int64\n",
      " 3   minimum_minimum_nights                        20408 non-null  int64\n",
      " 4   maximum_minimum_nights                        20408 non-null  int64\n",
      " 5   minimum_maximum_nights                        20408 non-null  int64\n",
      " 6   maximum_maximum_nights                        20408 non-null  int64\n",
      " 7   availability_30                               20408 non-null  int64\n",
      " 8   availability_60                               20408 non-null  int64\n",
      " 9   availability_90                               20408 non-null  int64\n",
      " 10  availability_365                              20408 non-null  int64\n",
      " 11  number_of_reviews                             20408 non-null  int64\n",
      " 12  number_of_reviews_ltm                         20408 non-null  int64\n",
      " 13  number_of_reviews_l30d                        20408 non-null  int64\n",
      " 14  calculated_host_listings_count                20408 non-null  int64\n",
      " 15  calculated_host_listings_count_entire_homes   20408 non-null  int64\n",
      " 16  calculated_host_listings_count_private_rooms  20408 non-null  int64\n",
      " 17  calculated_host_listings_count_shared_rooms   20408 non-null  int64\n",
      " 18  host_days                                     20408 non-null  int64\n",
      "dtypes: int64(19)\n",
      "memory usage: 3.0 MB\n"
     ]
    }
   ],
   "source": [
    "train_discrete.info()"
   ]
  },
  {
   "cell_type": "markdown",
   "id": "e75e572f",
   "metadata": {},
   "source": [
    "#### 3.3 Handling Missing Values in categorical Variables"
   ]
  },
  {
   "cell_type": "code",
   "execution_count": 17,
   "id": "4ebdf908",
   "metadata": {},
   "outputs": [],
   "source": [
    "#dropping variables that are unnecessary and does not impact the Price of an Airbnb listing\n",
    "train_categorical.drop(['host_name', 'host_about', 'neighborhood_overview'], axis =1, inplace = True)"
   ]
  },
  {
   "cell_type": "code",
   "execution_count": 18,
   "id": "1d9d51d6",
   "metadata": {},
   "outputs": [
    {
     "name": "stdout",
     "output_type": "stream",
     "text": [
      "<class 'pandas.core.frame.DataFrame'>\n",
      "RangeIndex: 20408 entries, 0 to 20407\n",
      "Data columns (total 16 columns):\n",
      " #   Column                  Non-Null Count  Dtype \n",
      "---  ------                  --------------  ----- \n",
      " 0   name                    20408 non-null  object\n",
      " 1   description             19751 non-null  object\n",
      " 2   host_location           20384 non-null  object\n",
      " 3   host_response_time      8385 non-null   object\n",
      " 4   host_is_superhost       20408 non-null  object\n",
      " 5   host_neighbourhood      12756 non-null  object\n",
      " 6   host_verifications      20408 non-null  object\n",
      " 7   host_identity_verified  20408 non-null  object\n",
      " 8   neighbourhood           12538 non-null  object\n",
      " 9   neighbourhood_cleansed  20408 non-null  object\n",
      " 10  property_type           20408 non-null  object\n",
      " 11  room_type               20408 non-null  object\n",
      " 12  bathrooms_text          20393 non-null  object\n",
      " 13  amenities               20408 non-null  object\n",
      " 14  has_availability        20408 non-null  object\n",
      " 15  instant_bookable        20408 non-null  object\n",
      "dtypes: object(16)\n",
      "memory usage: 2.5+ MB\n"
     ]
    }
   ],
   "source": [
    "train_categorical.info()"
   ]
  },
  {
   "cell_type": "code",
   "execution_count": 19,
   "id": "0b6fb370",
   "metadata": {},
   "outputs": [],
   "source": [
    "#Here, the values for the dropped variables can be found in neighbourhood_cleansed column\n",
    "train_categorical.drop(['host_neighbourhood', 'neighbourhood'], axis =1, inplace = True)"
   ]
  },
  {
   "cell_type": "code",
   "execution_count": 20,
   "id": "02ded8b8",
   "metadata": {},
   "outputs": [
    {
     "name": "stdout",
     "output_type": "stream",
     "text": [
      "<class 'pandas.core.frame.DataFrame'>\n",
      "RangeIndex: 20408 entries, 0 to 20407\n",
      "Data columns (total 14 columns):\n",
      " #   Column                  Non-Null Count  Dtype \n",
      "---  ------                  --------------  ----- \n",
      " 0   name                    20408 non-null  object\n",
      " 1   description             19751 non-null  object\n",
      " 2   host_location           20384 non-null  object\n",
      " 3   host_response_time      8385 non-null   object\n",
      " 4   host_is_superhost       20408 non-null  object\n",
      " 5   host_verifications      20408 non-null  object\n",
      " 6   host_identity_verified  20408 non-null  object\n",
      " 7   neighbourhood_cleansed  20408 non-null  object\n",
      " 8   property_type           20408 non-null  object\n",
      " 9   room_type               20408 non-null  object\n",
      " 10  bathrooms_text          20393 non-null  object\n",
      " 11  amenities               20408 non-null  object\n",
      " 12  has_availability        20408 non-null  object\n",
      " 13  instant_bookable        20408 non-null  object\n",
      "dtypes: object(14)\n",
      "memory usage: 2.2+ MB\n"
     ]
    }
   ],
   "source": [
    "train_categorical.info()"
   ]
  },
  {
   "cell_type": "code",
   "execution_count": 21,
   "id": "b8f21f98",
   "metadata": {},
   "outputs": [],
   "source": [
    "train_categorical['host_response_time']=train_categorical['host_response_time'].fillna('None')\n",
    "train_categorical['description']=train_categorical['description'].fillna('None')"
   ]
  },
  {
   "cell_type": "code",
   "execution_count": 22,
   "id": "e1371f00",
   "metadata": {},
   "outputs": [
    {
     "name": "stdout",
     "output_type": "stream",
     "text": [
      "<class 'pandas.core.frame.DataFrame'>\n",
      "RangeIndex: 20408 entries, 0 to 20407\n",
      "Data columns (total 14 columns):\n",
      " #   Column                  Non-Null Count  Dtype \n",
      "---  ------                  --------------  ----- \n",
      " 0   name                    20408 non-null  object\n",
      " 1   description             20408 non-null  object\n",
      " 2   host_location           20384 non-null  object\n",
      " 3   host_response_time      20408 non-null  object\n",
      " 4   host_is_superhost       20408 non-null  object\n",
      " 5   host_verifications      20408 non-null  object\n",
      " 6   host_identity_verified  20408 non-null  object\n",
      " 7   neighbourhood_cleansed  20408 non-null  object\n",
      " 8   property_type           20408 non-null  object\n",
      " 9   room_type               20408 non-null  object\n",
      " 10  bathrooms_text          20393 non-null  object\n",
      " 11  amenities               20408 non-null  object\n",
      " 12  has_availability        20408 non-null  object\n",
      " 13  instant_bookable        20408 non-null  object\n",
      "dtypes: object(14)\n",
      "memory usage: 2.2+ MB\n"
     ]
    }
   ],
   "source": [
    "train_categorical.info()"
   ]
  },
  {
   "cell_type": "code",
   "execution_count": 41,
   "id": "ad37b9d5",
   "metadata": {},
   "outputs": [
    {
     "data": {
      "text/html": [
       "<div>\n",
       "<style scoped>\n",
       "    .dataframe tbody tr th:only-of-type {\n",
       "        vertical-align: middle;\n",
       "    }\n",
       "\n",
       "    .dataframe tbody tr th {\n",
       "        vertical-align: top;\n",
       "    }\n",
       "\n",
       "    .dataframe thead th {\n",
       "        text-align: right;\n",
       "    }\n",
       "</style>\n",
       "<table border=\"1\" class=\"dataframe\">\n",
       "  <thead>\n",
       "    <tr style=\"text-align: right;\">\n",
       "      <th></th>\n",
       "      <th>host_response_rate</th>\n",
       "      <th>host_acceptance_rate</th>\n",
       "      <th>host_listings_count</th>\n",
       "      <th>host_total_listings_count</th>\n",
       "      <th>latitude</th>\n",
       "      <th>longitude</th>\n",
       "      <th>bedrooms</th>\n",
       "      <th>beds</th>\n",
       "      <th>minimum_nights_avg_ntm</th>\n",
       "      <th>maximum_nights_avg_ntm</th>\n",
       "      <th>...</th>\n",
       "      <th>neighbourhood_cleansed</th>\n",
       "      <th>property_type</th>\n",
       "      <th>room_type</th>\n",
       "      <th>bathrooms_text</th>\n",
       "      <th>amenities</th>\n",
       "      <th>has_availability</th>\n",
       "      <th>instant_bookable</th>\n",
       "      <th>host_since</th>\n",
       "      <th>first_review</th>\n",
       "      <th>last_review</th>\n",
       "    </tr>\n",
       "  </thead>\n",
       "  <tbody>\n",
       "    <tr>\n",
       "      <th>0</th>\n",
       "      <td>1.000</td>\n",
       "      <td>0.600</td>\n",
       "      <td>3.0</td>\n",
       "      <td>3.0</td>\n",
       "      <td>-33.88600</td>\n",
       "      <td>151.22138</td>\n",
       "      <td>1.0</td>\n",
       "      <td>1.0</td>\n",
       "      <td>3.0</td>\n",
       "      <td>3.0</td>\n",
       "      <td>...</td>\n",
       "      <td>Sydney</td>\n",
       "      <td>Private room in house</td>\n",
       "      <td>Private room</td>\n",
       "      <td>1 shared bath</td>\n",
       "      <td>[\"Washer\", \"Iron\", \"Hot water\", \"Essentials\", ...</td>\n",
       "      <td>t</td>\n",
       "      <td>t</td>\n",
       "      <td>2015-08-06</td>\n",
       "      <td>NaT</td>\n",
       "      <td>NaT</td>\n",
       "    </tr>\n",
       "    <tr>\n",
       "      <th>1</th>\n",
       "      <td>0.800</td>\n",
       "      <td>0.488</td>\n",
       "      <td>1.0</td>\n",
       "      <td>1.0</td>\n",
       "      <td>-33.89147</td>\n",
       "      <td>151.17989</td>\n",
       "      <td>3.0</td>\n",
       "      <td>3.0</td>\n",
       "      <td>5.0</td>\n",
       "      <td>8.0</td>\n",
       "      <td>...</td>\n",
       "      <td>Sydney</td>\n",
       "      <td>Entire house</td>\n",
       "      <td>Entire home/apt</td>\n",
       "      <td>3.5 baths</td>\n",
       "      <td>[\"Patio or balcony\", \"Garden or backyard\", \"Lo...</td>\n",
       "      <td>t</td>\n",
       "      <td>t</td>\n",
       "      <td>2010-12-08</td>\n",
       "      <td>2018-07-13</td>\n",
       "      <td>2020-01-01</td>\n",
       "    </tr>\n",
       "    <tr>\n",
       "      <th>2</th>\n",
       "      <td>1.000</td>\n",
       "      <td>0.900</td>\n",
       "      <td>1.0</td>\n",
       "      <td>1.0</td>\n",
       "      <td>-33.88238</td>\n",
       "      <td>151.21147</td>\n",
       "      <td>1.0</td>\n",
       "      <td>1.0</td>\n",
       "      <td>2.0</td>\n",
       "      <td>1125.0</td>\n",
       "      <td>...</td>\n",
       "      <td>Sydney</td>\n",
       "      <td>Entire apartment</td>\n",
       "      <td>Entire home/apt</td>\n",
       "      <td>1 bath</td>\n",
       "      <td>[\"Washer\", \"Long term stays allowed\", \"Microwa...</td>\n",
       "      <td>t</td>\n",
       "      <td>t</td>\n",
       "      <td>2016-09-17</td>\n",
       "      <td>2018-01-04</td>\n",
       "      <td>2018-03-18</td>\n",
       "    </tr>\n",
       "    <tr>\n",
       "      <th>3</th>\n",
       "      <td>0.934</td>\n",
       "      <td>0.970</td>\n",
       "      <td>1.0</td>\n",
       "      <td>1.0</td>\n",
       "      <td>-33.81528</td>\n",
       "      <td>151.00074</td>\n",
       "      <td>1.0</td>\n",
       "      <td>1.0</td>\n",
       "      <td>365.0</td>\n",
       "      <td>1125.0</td>\n",
       "      <td>...</td>\n",
       "      <td>Parramatta</td>\n",
       "      <td>Private room in apartment</td>\n",
       "      <td>Private room</td>\n",
       "      <td>1 private bath</td>\n",
       "      <td>[\"Washer\", \"Iron\", \"Long term stays allowed\", ...</td>\n",
       "      <td>t</td>\n",
       "      <td>t</td>\n",
       "      <td>2017-10-27</td>\n",
       "      <td>2017-12-02</td>\n",
       "      <td>2017-12-07</td>\n",
       "    </tr>\n",
       "    <tr>\n",
       "      <th>4</th>\n",
       "      <td>0.800</td>\n",
       "      <td>0.584</td>\n",
       "      <td>0.0</td>\n",
       "      <td>0.0</td>\n",
       "      <td>-33.88649</td>\n",
       "      <td>151.13558</td>\n",
       "      <td>2.0</td>\n",
       "      <td>2.0</td>\n",
       "      <td>3.0</td>\n",
       "      <td>1125.0</td>\n",
       "      <td>...</td>\n",
       "      <td>Ashfield</td>\n",
       "      <td>Entire apartment</td>\n",
       "      <td>Entire home/apt</td>\n",
       "      <td>1 bath</td>\n",
       "      <td>[\"Patio or balcony\", \"Bed linens\", \"Shampoo\", ...</td>\n",
       "      <td>t</td>\n",
       "      <td>t</td>\n",
       "      <td>2019-07-24</td>\n",
       "      <td>2019-11-01</td>\n",
       "      <td>2020-12-10</td>\n",
       "    </tr>\n",
       "  </tbody>\n",
       "</table>\n",
       "<p>5 rows × 55 columns</p>\n",
       "</div>"
      ],
      "text/plain": [
       "   host_response_rate  host_acceptance_rate  host_listings_count  \\\n",
       "0               1.000                 0.600                  3.0   \n",
       "1               0.800                 0.488                  1.0   \n",
       "2               1.000                 0.900                  1.0   \n",
       "3               0.934                 0.970                  1.0   \n",
       "4               0.800                 0.584                  0.0   \n",
       "\n",
       "   host_total_listings_count  latitude  longitude  bedrooms  beds  \\\n",
       "0                        3.0 -33.88600  151.22138       1.0   1.0   \n",
       "1                        1.0 -33.89147  151.17989       3.0   3.0   \n",
       "2                        1.0 -33.88238  151.21147       1.0   1.0   \n",
       "3                        1.0 -33.81528  151.00074       1.0   1.0   \n",
       "4                        0.0 -33.88649  151.13558       2.0   2.0   \n",
       "\n",
       "   minimum_nights_avg_ntm  maximum_nights_avg_ntm  ...  \\\n",
       "0                     3.0                     3.0  ...   \n",
       "1                     5.0                     8.0  ...   \n",
       "2                     2.0                  1125.0  ...   \n",
       "3                   365.0                  1125.0  ...   \n",
       "4                     3.0                  1125.0  ...   \n",
       "\n",
       "   neighbourhood_cleansed              property_type        room_type  \\\n",
       "0                  Sydney      Private room in house     Private room   \n",
       "1                  Sydney               Entire house  Entire home/apt   \n",
       "2                  Sydney           Entire apartment  Entire home/apt   \n",
       "3              Parramatta  Private room in apartment     Private room   \n",
       "4                Ashfield           Entire apartment  Entire home/apt   \n",
       "\n",
       "   bathrooms_text                                          amenities  \\\n",
       "0   1 shared bath  [\"Washer\", \"Iron\", \"Hot water\", \"Essentials\", ...   \n",
       "1       3.5 baths  [\"Patio or balcony\", \"Garden or backyard\", \"Lo...   \n",
       "2          1 bath  [\"Washer\", \"Long term stays allowed\", \"Microwa...   \n",
       "3  1 private bath  [\"Washer\", \"Iron\", \"Long term stays allowed\", ...   \n",
       "4          1 bath  [\"Patio or balcony\", \"Bed linens\", \"Shampoo\", ...   \n",
       "\n",
       "   has_availability  instant_bookable  host_since  first_review  last_review  \n",
       "0                 t                 t  2015-08-06           NaT          NaT  \n",
       "1                 t                 t  2010-12-08    2018-07-13   2020-01-01  \n",
       "2                 t                 t  2016-09-17    2018-01-04   2018-03-18  \n",
       "3                 t                 t  2017-10-27    2017-12-02   2017-12-07  \n",
       "4                 t                 t  2019-07-24    2019-11-01   2020-12-10  \n",
       "\n",
       "[5 rows x 55 columns]"
      ]
     },
     "execution_count": 41,
     "metadata": {},
     "output_type": "execute_result"
    }
   ],
   "source": [
    "#concatinating all the columns after adding missing values, some values will be imputed for caregorical variables\n",
    "#during feature engineering phase \n",
    "df = pd.concat([continuous_features, train_discrete, train_categorical, train_datetime], axis =1)\n",
    "df.head()"
   ]
  },
  {
   "cell_type": "markdown",
   "id": "f2efaa48",
   "metadata": {},
   "source": [
    "# Feature Engineering"
   ]
  },
  {
   "cell_type": "markdown",
   "id": "5fdc5cee",
   "metadata": {},
   "source": [
    "### Encoding Categorical Variables "
   ]
  },
  {
   "cell_type": "code",
   "execution_count": 42,
   "id": "181837a0",
   "metadata": {},
   "outputs": [
    {
     "data": {
      "text/html": [
       "<div>\n",
       "<style scoped>\n",
       "    .dataframe tbody tr th:only-of-type {\n",
       "        vertical-align: middle;\n",
       "    }\n",
       "\n",
       "    .dataframe tbody tr th {\n",
       "        vertical-align: top;\n",
       "    }\n",
       "\n",
       "    .dataframe thead th {\n",
       "        text-align: right;\n",
       "    }\n",
       "</style>\n",
       "<table border=\"1\" class=\"dataframe\">\n",
       "  <thead>\n",
       "    <tr style=\"text-align: right;\">\n",
       "      <th></th>\n",
       "      <th>name</th>\n",
       "      <th>description</th>\n",
       "      <th>host_location</th>\n",
       "      <th>host_response_time</th>\n",
       "      <th>host_is_superhost</th>\n",
       "      <th>host_verifications</th>\n",
       "      <th>host_identity_verified</th>\n",
       "      <th>neighbourhood_cleansed</th>\n",
       "      <th>property_type</th>\n",
       "      <th>room_type</th>\n",
       "      <th>bathrooms_text</th>\n",
       "      <th>amenities</th>\n",
       "      <th>has_availability</th>\n",
       "      <th>instant_bookable</th>\n",
       "    </tr>\n",
       "  </thead>\n",
       "  <tbody>\n",
       "    <tr>\n",
       "      <th>0</th>\n",
       "      <td>Sunny huge private room in Paddington</td>\n",
       "      <td>None</td>\n",
       "      <td>Sydney, New South Wales, Australia</td>\n",
       "      <td>None</td>\n",
       "      <td>f</td>\n",
       "      <td>['email', 'phone', 'reviews', 'jumio', 'offlin...</td>\n",
       "      <td>t</td>\n",
       "      <td>Sydney</td>\n",
       "      <td>Private room in house</td>\n",
       "      <td>Private room</td>\n",
       "      <td>1 shared bath</td>\n",
       "      <td>[\"Washer\", \"Iron\", \"Hot water\", \"Essentials\", ...</td>\n",
       "      <td>t</td>\n",
       "      <td>t</td>\n",
       "    </tr>\n",
       "    <tr>\n",
       "      <th>1</th>\n",
       "      <td>Gorgeous large 3 bedroom terrace house</td>\n",
       "      <td>Our house is perfect for families or small gro...</td>\n",
       "      <td>New South Wales, Australia</td>\n",
       "      <td>None</td>\n",
       "      <td>f</td>\n",
       "      <td>['email', 'phone', 'reviews', 'jumio', 'offlin...</td>\n",
       "      <td>t</td>\n",
       "      <td>Sydney</td>\n",
       "      <td>Entire house</td>\n",
       "      <td>Entire home/apt</td>\n",
       "      <td>3.5 baths</td>\n",
       "      <td>[\"Patio or balcony\", \"Garden or backyard\", \"Lo...</td>\n",
       "      <td>t</td>\n",
       "      <td>t</td>\n",
       "    </tr>\n",
       "    <tr>\n",
       "      <th>2</th>\n",
       "      <td>1 BR Apt with great small terrace in Surry Hills</td>\n",
       "      <td>Lovely 2 storey apartment in Surry Hills, one ...</td>\n",
       "      <td>Turin, Piedmont, Italy</td>\n",
       "      <td>None</td>\n",
       "      <td>f</td>\n",
       "      <td>['email', 'phone', 'reviews', 'jumio', 'govern...</td>\n",
       "      <td>t</td>\n",
       "      <td>Sydney</td>\n",
       "      <td>Entire apartment</td>\n",
       "      <td>Entire home/apt</td>\n",
       "      <td>1 bath</td>\n",
       "      <td>[\"Washer\", \"Long term stays allowed\", \"Microwa...</td>\n",
       "      <td>t</td>\n",
       "      <td>t</td>\n",
       "    </tr>\n",
       "    <tr>\n",
       "      <th>3</th>\n",
       "      <td>Modern Apartment Close to Everything</td>\n",
       "      <td>Fantastic brand new Apartment with Panoramic v...</td>\n",
       "      <td>Parramatta, New South Wales, Australia</td>\n",
       "      <td>None</td>\n",
       "      <td>f</td>\n",
       "      <td>['email', 'phone', 'reviews', 'offline_governm...</td>\n",
       "      <td>t</td>\n",
       "      <td>Parramatta</td>\n",
       "      <td>Private room in apartment</td>\n",
       "      <td>Private room</td>\n",
       "      <td>1 private bath</td>\n",
       "      <td>[\"Washer\", \"Iron\", \"Long term stays allowed\", ...</td>\n",
       "      <td>t</td>\n",
       "      <td>t</td>\n",
       "    </tr>\n",
       "    <tr>\n",
       "      <th>4</th>\n",
       "      <td>Charming parkside apartment in quiet area</td>\n",
       "      <td>How many holiday rentals allow you to walk out...</td>\n",
       "      <td>Sydney, New South Wales, Australia</td>\n",
       "      <td>None</td>\n",
       "      <td>f</td>\n",
       "      <td>['email', 'phone', 'work_email']</td>\n",
       "      <td>f</td>\n",
       "      <td>Ashfield</td>\n",
       "      <td>Entire apartment</td>\n",
       "      <td>Entire home/apt</td>\n",
       "      <td>1 bath</td>\n",
       "      <td>[\"Patio or balcony\", \"Bed linens\", \"Shampoo\", ...</td>\n",
       "      <td>t</td>\n",
       "      <td>t</td>\n",
       "    </tr>\n",
       "  </tbody>\n",
       "</table>\n",
       "</div>"
      ],
      "text/plain": [
       "                                               name  \\\n",
       "0             Sunny huge private room in Paddington   \n",
       "1            Gorgeous large 3 bedroom terrace house   \n",
       "2  1 BR Apt with great small terrace in Surry Hills   \n",
       "3              Modern Apartment Close to Everything   \n",
       "4         Charming parkside apartment in quiet area   \n",
       "\n",
       "                                         description  \\\n",
       "0                                               None   \n",
       "1  Our house is perfect for families or small gro...   \n",
       "2  Lovely 2 storey apartment in Surry Hills, one ...   \n",
       "3  Fantastic brand new Apartment with Panoramic v...   \n",
       "4  How many holiday rentals allow you to walk out...   \n",
       "\n",
       "                            host_location host_response_time  \\\n",
       "0      Sydney, New South Wales, Australia               None   \n",
       "1              New South Wales, Australia               None   \n",
       "2                  Turin, Piedmont, Italy               None   \n",
       "3  Parramatta, New South Wales, Australia               None   \n",
       "4      Sydney, New South Wales, Australia               None   \n",
       "\n",
       "  host_is_superhost                                 host_verifications  \\\n",
       "0                 f  ['email', 'phone', 'reviews', 'jumio', 'offlin...   \n",
       "1                 f  ['email', 'phone', 'reviews', 'jumio', 'offlin...   \n",
       "2                 f  ['email', 'phone', 'reviews', 'jumio', 'govern...   \n",
       "3                 f  ['email', 'phone', 'reviews', 'offline_governm...   \n",
       "4                 f                   ['email', 'phone', 'work_email']   \n",
       "\n",
       "  host_identity_verified neighbourhood_cleansed              property_type  \\\n",
       "0                      t                 Sydney      Private room in house   \n",
       "1                      t                 Sydney               Entire house   \n",
       "2                      t                 Sydney           Entire apartment   \n",
       "3                      t             Parramatta  Private room in apartment   \n",
       "4                      f               Ashfield           Entire apartment   \n",
       "\n",
       "         room_type  bathrooms_text  \\\n",
       "0     Private room   1 shared bath   \n",
       "1  Entire home/apt       3.5 baths   \n",
       "2  Entire home/apt          1 bath   \n",
       "3     Private room  1 private bath   \n",
       "4  Entire home/apt          1 bath   \n",
       "\n",
       "                                           amenities has_availability  \\\n",
       "0  [\"Washer\", \"Iron\", \"Hot water\", \"Essentials\", ...                t   \n",
       "1  [\"Patio or balcony\", \"Garden or backyard\", \"Lo...                t   \n",
       "2  [\"Washer\", \"Long term stays allowed\", \"Microwa...                t   \n",
       "3  [\"Washer\", \"Iron\", \"Long term stays allowed\", ...                t   \n",
       "4  [\"Patio or balcony\", \"Bed linens\", \"Shampoo\", ...                t   \n",
       "\n",
       "  instant_bookable  \n",
       "0                t  \n",
       "1                t  \n",
       "2                t  \n",
       "3                t  \n",
       "4                t  "
      ]
     },
     "execution_count": 42,
     "metadata": {},
     "output_type": "execute_result"
    }
   ],
   "source": [
    "df.select_dtypes(include='object').head()"
   ]
  },
  {
   "cell_type": "code",
   "execution_count": 43,
   "id": "425a2679",
   "metadata": {},
   "outputs": [],
   "source": [
    "#dummy variables for Binary features\n",
    "df = pd.concat([df, pd.get_dummies(df['has_availability'],prefix='has_availability',drop_first=True),\n",
    "                pd.get_dummies(df['host_is_superhost'],prefix='host_is_superhost',drop_first=True),\n",
    "                pd.get_dummies(df['instant_bookable'],prefix='has_availability',drop_first=True),\n",
    "                pd.get_dummies(df['host_identity_verified'],prefix='has_availability',drop_first=True),\n",
    "                pd.get_dummies(df['room_type'],drop_first=True)], axis =1)"
   ]
  },
  {
   "cell_type": "code",
   "execution_count": 44,
   "id": "8261d0a2",
   "metadata": {},
   "outputs": [],
   "source": [
    "df.drop(['has_availability', 'host_is_superhost', 'instant_bookable', 'host_identity_verified', 'room_type'], \n",
    "        axis = 1, inplace = True)\n"
   ]
  },
  {
   "cell_type": "code",
   "execution_count": 45,
   "id": "eb6769f8",
   "metadata": {},
   "outputs": [],
   "source": [
    "# following columns have very high cardinality\n",
    "df.drop(['name', 'description','host_location'], axis =1, inplace = True)"
   ]
  },
  {
   "cell_type": "code",
   "execution_count": 46,
   "id": "6ebafa14",
   "metadata": {},
   "outputs": [],
   "source": [
    "#High cardinality features\n",
    "sparse_cats = df.property_type.value_counts().head(4).index.tolist() + ['other_property_type']\n",
    "df['property_type'] = pd.Categorical(df['property_type'], categories=sparse_cats).fillna('other_property_type')\n",
    "    "
   ]
  },
  {
   "cell_type": "code",
   "execution_count": 47,
   "id": "36dee65c",
   "metadata": {},
   "outputs": [
    {
     "data": {
      "text/plain": [
       "Entire apartment             8867\n",
       "Entire house                 3337\n",
       "other_property_type          3273\n",
       "Private room in apartment    3127\n",
       "Private room in house        1804\n",
       "Name: property_type, dtype: int64"
      ]
     },
     "execution_count": 47,
     "metadata": {},
     "output_type": "execute_result"
    }
   ],
   "source": [
    "df['property_type'].value_counts()"
   ]
  },
  {
   "cell_type": "code",
   "execution_count": 48,
   "id": "70cfbe03",
   "metadata": {},
   "outputs": [],
   "source": [
    "df = pd.concat([df, pd.get_dummies(df['property_type'],drop_first=True)], axis =1)\n"
   ]
  },
  {
   "cell_type": "code",
   "execution_count": 49,
   "id": "d648cc77",
   "metadata": {},
   "outputs": [],
   "source": [
    "df.drop(['property_type'], axis =1, inplace = True)"
   ]
  },
  {
   "cell_type": "code",
   "execution_count": 50,
   "id": "bc2e7b34",
   "metadata": {},
   "outputs": [],
   "source": [
    "df = df.join(pd.get_dummies(df['host_response_time'],drop_first=True))"
   ]
  },
  {
   "cell_type": "code",
   "execution_count": 51,
   "id": "589eac51",
   "metadata": {
    "scrolled": true
   },
   "outputs": [
    {
     "name": "stdout",
     "output_type": "stream",
     "text": [
      "\n",
      "                  __    __    __    __\n",
      "                 /  \\  /  \\  /  \\  /  \\\n",
      "                /    \\/    \\/    \\/    \\\n",
      "███████████████/  /██/  /██/  /██/  /████████████████████████\n",
      "              /  / \\   / \\   / \\   / \\  \\____\n",
      "             /  /   \\_/   \\_/   \\_/   \\    o \\__,\n",
      "            / _/                       \\_____/  `\n",
      "            |/\n",
      "        ███╗   ███╗ █████╗ ███╗   ███╗██████╗  █████╗\n",
      "        ████╗ ████║██╔══██╗████╗ ████║██╔══██╗██╔══██╗\n",
      "        ██╔████╔██║███████║██╔████╔██║██████╔╝███████║\n",
      "        ██║╚██╔╝██║██╔══██║██║╚██╔╝██║██╔══██╗██╔══██║\n",
      "        ██║ ╚═╝ ██║██║  ██║██║ ╚═╝ ██║██████╔╝██║  ██║\n",
      "        ╚═╝     ╚═╝╚═╝  ╚═╝╚═╝     ╚═╝╚═════╝ ╚═╝  ╚═╝\n",
      "\n",
      "        mamba (0.4.2) supported by @QuantStack\n",
      "\n",
      "        GitHub:  https://github.com/QuantStack/mamba\n",
      "        Twitter: https://twitter.com/QuantStack\n",
      "\n",
      "█████████████████████████████████████████████████████████████\n",
      "\n",
      "pkgs/main/noarch         [>                   ] (--:--) No change\n",
      "pkgs/main/noarch         [====================] (00m:00s) No change\n",
      "pkgs/main/noarch         [====================] (00m:00s) No change\n",
      "pkgs/main/osx-64         [>                   ] (--:--) No change\n",
      "pkgs/main/osx-64         [====================] (00m:00s) No change\n",
      "pkgs/main/osx-64         [====================] (00m:00s) No change\n",
      "pkgs/r/osx-64            [>                   ] (--:--) No change\n",
      "pkgs/r/osx-64            [====================] (00m:00s) No change\n",
      "pkgs/r/osx-64            [====================] (00m:00s) No change\n",
      "conda-forge/osx-64       [>                   ] (--:--) No change\n",
      "conda-forge/osx-64       [====================] (00m:00s) No change\n",
      "conda-forge/osx-64       [====================] (00m:00s) No change\n",
      "conda-forge/noarch       [>                   ] (--:--) No change\n",
      "conda-forge/noarch       [====================] (00m:00s) No change\n",
      "conda-forge/noarch       [====================] (00m:00s) No change\n",
      "pkgs/r/noarch            [>                   ] (--:--) No change\n",
      "pkgs/r/noarch            [====================] (00m:00s) No change\n",
      "pkgs/r/noarch            [====================] (00m:00s) No change\n",
      "\n",
      "Looking for: ['category_encoders']\n",
      "\n",
      "Transaction\n",
      "\n",
      "  Prefix: /Users/ankurbedi/opt/anaconda3\n",
      "\n",
      "  All requested packages already installed\n",
      "\n"
     ]
    }
   ],
   "source": [
    "!mamba install -c conda-forge category_encoders -y"
   ]
  },
  {
   "cell_type": "code",
   "execution_count": 52,
   "id": "0fd3c309",
   "metadata": {},
   "outputs": [],
   "source": [
    "from category_encoders.glmm import GLMMEncoder \n",
    "\n",
    "predictor = ['neighbourhood_cleansed']\n",
    "y_train=df['price']   \n",
    "encoder = GLMMEncoder().fit(df[predictor], y_train) \n",
    "df['neighbourhood_cleansedGL'] = encoder.transform(df[predictor])\n"
   ]
  },
  {
   "cell_type": "code",
   "execution_count": 53,
   "id": "968a3c8e",
   "metadata": {},
   "outputs": [],
   "source": [
    "df.drop(['neighbourhood_cleansed', 'host_verifications'], axis =1, inplace = True)"
   ]
  },
  {
   "cell_type": "code",
   "execution_count": 54,
   "id": "2808853f",
   "metadata": {},
   "outputs": [],
   "source": [
    "df['bathrooms_text'] = df['bathrooms_text'].astype(str).apply(lambda x:x.split()[0])\n",
    "df.loc[~df['bathrooms_text'].str.replace('.','').str.isdigit(),['bathrooms_text']] = 0.5\n",
    "df['bathrooms_text']=df['bathrooms_text'].astype(float)\n"
   ]
  },
  {
   "cell_type": "code",
   "execution_count": null,
   "id": "5ad6168f",
   "metadata": {},
   "outputs": [],
   "source": []
  },
  {
   "cell_type": "code",
   "execution_count": 77,
   "id": "a89305a6",
   "metadata": {},
   "outputs": [
    {
     "data": {
      "text/plain": [
       "array([                          'NaT', '2018-07-13T00:00:00.000000000',\n",
       "       '2018-01-04T00:00:00.000000000', ...,\n",
       "       '2013-07-09T00:00:00.000000000', '2013-08-13T00:00:00.000000000',\n",
       "       '2014-06-12T00:00:00.000000000'], dtype='datetime64[ns]')"
      ]
     },
     "execution_count": 77,
     "metadata": {},
     "output_type": "execute_result"
    }
   ],
   "source": [
    "df['first_review'].unique()"
   ]
  },
  {
   "cell_type": "markdown",
   "id": "91ec8d2e",
   "metadata": {},
   "source": [
    "## Simple Linear Regression Model"
   ]
  },
  {
   "cell_type": "markdown",
   "id": "00d6b80c",
   "metadata": {},
   "source": [
    "### Feature selection for Simple Linear regression model"
   ]
  },
  {
   "cell_type": "code",
   "execution_count": 62,
   "id": "68fbdadf",
   "metadata": {},
   "outputs": [],
   "source": [
    "from sklearn import preprocessing\n",
    "from sklearn.model_selection import train_test_split\n",
    "from sklearn.metrics import mean_squared_error, r2_score\n",
    "from sklearn.linear_model import LinearRegression\n",
    "from sklearn.metrics import mean_squared_error, r2_score, mean_absolute_error\n",
    "import statsmodels.api as sm"
   ]
  },
  {
   "cell_type": "code",
   "execution_count": 68,
   "id": "54250322",
   "metadata": {},
   "outputs": [],
   "source": [
    "from sklearn.model_selection import StratifiedKFold\n",
    "from sklearn.feature_selection import RFECV"
   ]
  },
  {
   "cell_type": "code",
   "execution_count": null,
   "id": "cb1ee9d5",
   "metadata": {},
   "outputs": [],
   "source": []
  },
  {
   "cell_type": "code",
   "execution_count": null,
   "id": "c120d1da",
   "metadata": {},
   "outputs": [],
   "source": []
  },
  {
   "cell_type": "code",
   "execution_count": null,
   "id": "5c90e317",
   "metadata": {},
   "outputs": [],
   "source": []
  },
  {
   "cell_type": "code",
   "execution_count": null,
   "id": "5da69b0b",
   "metadata": {},
   "outputs": [],
   "source": []
  }
 ],
 "metadata": {
  "kernelspec": {
   "display_name": "Python 3",
   "language": "python",
   "name": "python3"
  },
  "language_info": {
   "codemirror_mode": {
    "name": "ipython",
    "version": 3
   },
   "file_extension": ".py",
   "mimetype": "text/x-python",
   "name": "python",
   "nbconvert_exporter": "python",
   "pygments_lexer": "ipython3",
   "version": "3.8.8"
  }
 },
 "nbformat": 4,
 "nbformat_minor": 5
}
